{
 "cells": [
  {
   "cell_type": "code",
   "execution_count": null,
   "id": "e31a04d6",
   "metadata": {},
   "outputs": [],
   "source": [
    "ASSIGNMENT 2"
   ]
  },
  {
   "cell_type": "code",
   "execution_count": 20,
   "id": "c2f77419",
   "metadata": {},
   "outputs": [
    {
     "name": "stdout",
     "output_type": "stream",
     "text": [
      "enter the value of the radius: nnnn\n",
      "the radius cannot be a string\n"
     ]
    }
   ],
   "source": [
    "#get the surface and perimeter of a circle\n",
    "import math\n",
    "radius = (input(\"enter the value of the radius: \"))\n",
    "if radius.isnumeric()== True:\n",
    "    user_choice = input(\" choose P(for perimeter) or S(for surface): \").lower()\n",
    "    if user_choice == \"p\":\n",
    "        print(f\"the perimeter is equal to {str(math.pi*2*float(radius))}\")\n",
    "    else:\n",
    "        print(f\"the area calculated area is equal {str(math.pi*(float(radius)**2))}\")\n",
    "else:\n",
    "    print(\"the radius cannot be a string\")\n"
   ]
  },
  {
   "cell_type": "code",
   "execution_count": 26,
   "id": "aa9bfd48",
   "metadata": {
    "scrolled": true
   },
   "outputs": [
    {
     "name": "stdout",
     "output_type": "stream",
     "text": [
      "{'Duy': ['Python', 'Database', 'ML'], 'Laxmi': ['Python', 'Database', 'ML'], 'Antonio': ['Python', 'Database', 'ML'], 'Maria': ['Python', 'Database', 'ML']}\n",
      "{'Duy': ['Python', 'Database', 'ML'], 'Laxmi': ['Python', 'Database', 'ML'], 'Antonio': ['Python', 'Database', 'ML'], 'Maria': ['Python', 'Database']}\n"
     ]
    }
   ],
   "source": [
    "#question 2: students_profile dictionary\n",
    "students_profile={'Duy': ['Python', 'Database', 'ML'],\n",
    "'Laxmi': ['Python', 'Database', 'ML'],'Antonio': ['Python', 'Database', 'ML'],\n",
    "'Maria': ['Python', 'Database', 'ML']}\n",
    "print(students_profile)\n",
    "if \"Maria\" in students_profile:\n",
    "    students_profile[\"Maria\"].remove(\"ML\")\n",
    "print(students_profile)\n",
    "\n"
   ]
  },
  {
   "cell_type": "code",
   "execution_count": 30,
   "id": "669af7f5",
   "metadata": {},
   "outputs": [
    {
     "name": "stdout",
     "output_type": "stream",
     "text": [
      "give me a string: Hello Blandine, how are you doing?\n",
      "enter a subtring you wanna check: Clementine\n",
      "the substring clementine is not present in hello blandine, how are you doing?\n"
     ]
    }
   ],
   "source": [
    "#question 3: user input as a substring\n",
    "user_string = input(\"give me a string: \").lower()\n",
    "user_substring = input(\"enter a subtring you wanna check: \").lower()\n",
    "if user_substring in user_string:\n",
    "    print(f\"the substring {user_substring}is present in {user_string} string\")\n",
    "else:\n",
    "    print(f\"the substring {user_substring} is not present in {user_string}\")\n"
   ]
  },
  {
   "cell_type": "code",
   "execution_count": 13,
   "id": "28c9941d",
   "metadata": {},
   "outputs": [
    {
     "name": "stdout",
     "output_type": "stream",
     "text": [
      "9\n",
      "5.196152422706632\n",
      "4.3267487109222245\n"
     ]
    }
   ],
   "source": [
    "#question 4:Distance metrics\n",
    "#L1(Manhattan distance)\n",
    "import numpy as np\n",
    "P1 = np.array([1,2,3])\n",
    "P2 = np.array([4,5,6])\n",
    "L1 = np.sum(np.abs(P1-P2))\n",
    "print(L1)\n",
    "#L2(Euclidean distance)\n",
    "import numpy as np\n",
    "P1 = np.array([1,2,3])\n",
    "P2 = np.array([4,5,6])\n",
    "L2 = np.sqrt(np.sum((P1-P2)**2))\n",
    "print(L2)\n",
    "#L3\n",
    "L3 = np.power(np.sum(np.power(np.abs(P1 - P2), 3)), 1/3)\n",
    "print(L3)\n"
   ]
  },
  {
   "cell_type": "code",
   "execution_count": 1,
   "id": "e071ac33",
   "metadata": {},
   "outputs": [
    {
     "name": "stdout",
     "output_type": "stream",
     "text": [
      "give me a number:6\n",
      "6 X 1 = 6\n",
      "6 X 2 = 12\n",
      "6 X 3 = 18\n",
      "6 X 4 = 24\n",
      "6 X 5 = 30\n",
      "6 X 6 = 36\n",
      "6 X 7 = 42\n",
      "6 X 8 = 48\n",
      "6 X 9 = 54\n",
      "6 X 10 = 60\n",
      "6 X 11 = 66\n"
     ]
    }
   ],
   "source": [
    "#question 5:multiplication table of a given number using for\n",
    "\n",
    "given_num = int(input(\"give me a number:\"))\n",
    "for num in range(1,12):\n",
    "    print(f\"{given_num} X {num} = {given_num * num}\")"
   ]
  },
  {
   "cell_type": "code",
   "execution_count": 3,
   "id": "1fe3c9d3",
   "metadata": {},
   "outputs": [
    {
     "name": "stdout",
     "output_type": "stream",
     "text": [
      "give me a number:9\n",
      "9 X 1 = 9\n",
      "9 X 2 = 18\n",
      "9 X 3 = 27\n",
      "9 X 4 = 36\n",
      "9 X 5 = 45\n",
      "9 X 6 = 54\n",
      "9 X 7 = 63\n",
      "9 X 8 = 72\n",
      "9 X 9 = 81\n",
      "9 X 10 = 90\n",
      "9 X 11 = 99\n"
     ]
    }
   ],
   "source": [
    "#multiplication table of a given number using while\n",
    "num = 1\n",
    "given_num = int(input(\"give me a number:\"))\n",
    "while num in range(1,12):\n",
    "     print(f\"{given_num} X {num} = {given_num * num}\")\n",
    "     num += 1"
   ]
  },
  {
   "cell_type": "code",
   "execution_count": 3,
   "id": "10ef3a37",
   "metadata": {},
   "outputs": [
    {
     "name": "stdout",
     "output_type": "stream",
     "text": [
      "TTAGGCTTTTAAGCCCTTAAAAGCGCA\n"
     ]
    }
   ],
   "source": [
    "#DNA\n",
    "dna_template = 'AATCCGAAAATTCGGGAATTTTCGCGT'\n",
    "mapper = {\"T\": \"A\", \"A\": \"T\", \"G\": \"C\", \"C\": \"G\"}\n",
    "dna_mapper = \"\"\n",
    "for label in dna_template:\n",
    "    dna_mapper = dna_mapper + mapper[label] \n",
    "print(dna_mapper)"
   ]
  },
  {
   "cell_type": "code",
   "execution_count": null,
   "id": "9a62473b",
   "metadata": {},
   "outputs": [],
   "source": []
  },
  {
   "cell_type": "code",
   "execution_count": null,
   "id": "684c8e57",
   "metadata": {},
   "outputs": [],
   "source": [
    "#question6: Docstring\n"
   ]
  },
  {
   "cell_type": "code",
   "execution_count": 10,
   "id": "c7d45874",
   "metadata": {},
   "outputs": [
    {
     "name": "stdout",
     "output_type": "stream",
     "text": [
      "give me a number:7\n",
      "5040\n"
     ]
    }
   ],
   "source": [
    "#factorial function of a given num\n",
    "given_num = int(input(\"give me a number:\"))\n",
    "fact_num = 1\n",
    "for i in range(1, given_num + 1):\n",
    "    if given_num != 0 and given_num != 1:\n",
    "        fact_num = fact_num * i\n",
    "    \n",
    "print(fact_num)"
   ]
  },
  {
   "cell_type": "code",
   "execution_count": null,
   "id": "100316ab",
   "metadata": {},
   "outputs": [],
   "source": []
  },
  {
   "cell_type": "code",
   "execution_count": 26,
   "id": "4aaf98c3",
   "metadata": {},
   "outputs": [],
   "source": [
    "\n",
    "#a function that takes positional and or keyword arguments\n",
    "def my_function(*args, **kwargs):\n",
    "    print(\"Positional arguments:\")\n",
    "    for arg in args:\n",
    "        print(arg)\n",
    "        \n",
    "    print(\"\\nKeyword arguments:\")\n",
    "    for key, value in kwargs.items():\n",
    "        print(f\"{key}: {value}\")\n"
   ]
  },
  {
   "cell_type": "code",
   "execution_count": 2,
   "id": "e72a3064",
   "metadata": {},
   "outputs": [
    {
     "name": "stdout",
     "output_type": "stream",
     "text": [
      "[2, 3, 5, 7, 11, 13, 17, 19]\n"
     ]
    }
   ],
   "source": [
    "#to generate the list of n prime numbers.\n",
    "list_prime = []\n",
    "n = 20\n",
    "for num in range(2, n+1):\n",
    "    isprime = True\n",
    "    for i in range(2,num):\n",
    "        if num % i == 0:\n",
    "            isprime = False\n",
    "    if isprime:\n",
    "        list_prime.append(num)\n",
    "print(list_prime)\n",
    "        \n",
    "\n"
   ]
  },
  {
   "cell_type": "code",
   "execution_count": 21,
   "id": "afbd9b78",
   "metadata": {},
   "outputs": [
    {
     "name": "stdout",
     "output_type": "stream",
     "text": [
      "[0, 1, 1, 2, 3, 5, 8, 13, 21, 34, 55, 89, 144]\n"
     ]
    }
   ],
   "source": [
    "#generate fibonacci series\n",
    "n = 13\n",
    "fibonacci_list = [0,1]\n",
    "for i in range(2,n):\n",
    "    fibonacci_list.append(fibonacci_list[i-1] + fibonacci_list[i-2])\n",
    "print(fibonacci_list)\n",
    "\n",
    "       \n",
    "\n",
    "\n",
    "    \n"
   ]
  },
  {
   "cell_type": "code",
   "execution_count": 13,
   "id": "64661082",
   "metadata": {},
   "outputs": [
    {
     "data": {
      "text/plain": [
       "('Blandine', 'Blandon', 'Blenda')"
      ]
     },
     "execution_count": 13,
     "metadata": {},
     "output_type": "execute_result"
    }
   ],
   "source": [
    "# a function that takes any number of positional and keyword arguments.\n",
    "#positional argument\n",
    "names = [\"Blandine\",\"Blandon\",\"Blenda\"]\n",
    "def name_B(*names):\n",
    "    return names\n",
    "name_B(*names)\n"
   ]
  },
  {
   "cell_type": "code",
   "execution_count": 14,
   "id": "6f1be2ae",
   "metadata": {},
   "outputs": [],
   "source": [
    "#keyword arguments\n",
    "\n",
    "dict_course = {\"course_name1\":\"Mathmatics\",\"course_name2\":\"Machine_Learning\",\"course_name3\":\"python\"}\n",
    "def course(**dict_course):\n",
    "    pass\n",
    "course(**dict_course)\n"
   ]
  },
  {
   "cell_type": "code",
   "execution_count": 1,
   "id": "0d9a52d5",
   "metadata": {},
   "outputs": [
    {
     "name": "stdout",
     "output_type": "stream",
     "text": [
      "45\n",
      "30\n",
      "45\n",
      "35\n"
     ]
    }
   ],
   "source": [
    "#scope of variables: LEGB Rule \n",
    "#global variables, locol variables, nonlocal variables\n",
    "x = 35 #global variable\n",
    "def my_num():\n",
    "    x = 45 # local variable\n",
    "    print(x)\n",
    "    def my_number():\n",
    "        x = 30 #nonlocal variable\n",
    "        print(x)\n",
    "    my_number()\n",
    "    print(x)\n",
    "my_num()\n",
    "print(x)"
   ]
  },
  {
   "cell_type": "code",
   "execution_count": 8,
   "id": "d8a8599e",
   "metadata": {},
   "outputs": [
    {
     "data": {
      "text/plain": [
       "5040"
      ]
     },
     "execution_count": 8,
     "metadata": {},
     "output_type": "execute_result"
    }
   ],
   "source": [
    "#factorial\n",
    "def factorial(n):\n",
    "    if n < 0:\n",
    "        raise('Invalid n number for factorial')\n",
    "    if n in [0, 1]:\n",
    "        return 1\n",
    "    fact_n = 1 \n",
    "    for i in range(n, 0, -1):\n",
    "        fact_n *= i\n",
    "    return fact_n\n",
    "factorial(7)\n",
    "\n"
   ]
  },
  {
   "cell_type": "code",
   "execution_count": 9,
   "id": "32e49227",
   "metadata": {},
   "outputs": [
    {
     "data": {
      "text/plain": [
       "6.0"
      ]
     },
     "execution_count": 9,
     "metadata": {},
     "output_type": "execute_result"
    }
   ],
   "source": [
    "#permitation\n",
    "\n",
    "def permutation(n, r):\n",
    "    \"\"\"\n",
    "    Implement Permutation using this formula P(n, r) = n! / (n - r)\n",
    "    n: total items in the set\n",
    "    r: is the number of ways to arrange objects form a set\n",
    "    \"\"\"\n",
    "    if r >= n or r < 0:\n",
    "        raise Exception('invalid r value it should be greater it should not be r >= n or r < 0')\n",
    "    return (factorial(n)/ (n - r))\n",
    "permutation(3,2)"
   ]
  },
  {
   "cell_type": "code",
   "execution_count": 15,
   "id": "742c2f55",
   "metadata": {},
   "outputs": [
    {
     "data": {
      "text/plain": [
       "10.0"
      ]
     },
     "execution_count": 15,
     "metadata": {},
     "output_type": "execute_result"
    }
   ],
   "source": [
    "#combination(n,r)\n",
    "def combination(n, r):\n",
    "    \"\"\"\n",
    "    Implement combination using this formula C(n, r) = n! / r!(n - r)!\n",
    "    n: total items in the set\n",
    "    r: is the number of ways to arrange objects form a set\n",
    "    \"\"\"\n",
    "    return factorial(n) / (factorial(r) * factorial(n - r))\n",
    "combination(5,2)\n"
   ]
  },
  {
   "cell_type": "code",
   "execution_count": 22,
   "id": "a998311b",
   "metadata": {},
   "outputs": [],
   "source": [
    "#combination_permitation\n",
    "def combination_permutation_or_both(\n",
    "    formula='both', n=None, r=None):\n",
    "    \"\"\"\n",
    "    formula: by defaul it is both and it can only allow\n",
    "    both, combination and permutation as values\n",
    "    n: total items in the set\n",
    "    r: is the number of ways to arrange objects form a set\n",
    "    \"\"\"\n",
    "    if formula not in [\"both\", \"combination\", \"permutation\"]:\n",
    "        raise Exception(f'{formula} Formula does not exist!')\n",
    "    \n",
    "    if formula == \"combination\":\n",
    "        return combination(n, r)\n",
    "    elif formula == \"permutation\":\n",
    "        return permutation(n, r)\n",
    "    else:\n",
    "        return combination(n, r), permutation(n, r)\n",
    "\n"
   ]
  },
  {
   "cell_type": "code",
   "execution_count": 23,
   "id": "eef92330",
   "metadata": {},
   "outputs": [
    {
     "data": {
      "text/plain": [
       "(3.0, 6.0)"
      ]
     },
     "execution_count": 23,
     "metadata": {},
     "output_type": "execute_result"
    }
   ],
   "source": [
    "combination_permutation_or_both(\"both\",3,2)\n",
    "   "
   ]
  },
  {
   "cell_type": "code",
   "execution_count": 5,
   "id": "42d14500",
   "metadata": {},
   "outputs": [
    {
     "name": "stdout",
     "output_type": "stream",
     "text": [
      "1\n",
      "2\n",
      "3\n",
      "4\n",
      "5\n",
      "6\n"
     ]
    },
    {
     "ename": "StopIteration",
     "evalue": "",
     "output_type": "error",
     "traceback": [
      "\u001b[1;31m---------------------------------------------------------------------------\u001b[0m",
      "\u001b[1;31mStopIteration\u001b[0m                             Traceback (most recent call last)",
      "Cell \u001b[1;32mIn[5], line 12\u001b[0m\n\u001b[0;32m     10\u001b[0m \u001b[38;5;28mprint\u001b[39m(\u001b[38;5;28mnext\u001b[39m(x))\n\u001b[0;32m     11\u001b[0m \u001b[38;5;28mprint\u001b[39m(\u001b[38;5;28mnext\u001b[39m(x))\n\u001b[1;32m---> 12\u001b[0m \u001b[38;5;28mprint\u001b[39m(\u001b[38;5;28;43mnext\u001b[39;49m\u001b[43m(\u001b[49m\u001b[43mx\u001b[49m\u001b[43m)\u001b[49m)\n",
      "\u001b[1;31mStopIteration\u001b[0m: "
     ]
    }
   ],
   "source": [
    "#ASSIGNMENT 4\n",
    "#iterators,generators\n",
    "# apply iter method to it and run next method until you get StopIteration error\n",
    "L = [1,2,3,4,5,6]\n",
    "x = iter(L)\n",
    "print(next(x))\n",
    "print(next(x))\n",
    "print(next(x))\n",
    "print(next(x))\n",
    "print(next(x))\n",
    "print(next(x))\n",
    "print(next(x))\n"
   ]
  },
  {
   "cell_type": "code",
   "execution_count": 7,
   "id": "33c7d852",
   "metadata": {},
   "outputs": [
    {
     "name": "stdout",
     "output_type": "stream",
     "text": [
      "count(10, 2)\n",
      "<itertools.cycle object at 0x00000177C9252A80>\n",
      "repeat(23, 5)\n",
      "<itertools.accumulate object at 0x00000177C9253B40>\n",
      "<itertools.compress object at 0x00000177C8D01660>\n",
      "<itertools.product object at 0x00000177C9250C80>\n",
      "<itertools.combinations object at 0x00000177C925B600>\n",
      "<itertools.permutations object at 0x00000177C925A3E0>\n"
     ]
    }
   ],
   "source": [
    "#iterator count(), repeat(), cycle()\n",
    "\n",
    "import itertools\n",
    "print(itertools.count(10,2))\n",
    "print (itertools.cycle(\"ABCD\"))\n",
    "print(itertools.repeat(23,5))\n",
    "\n",
    "#Use methods from I terators terminating on the shortest input sequence\n",
    "print(itertools.accumulate([1,2,3,4,5]))\n",
    "print(itertools.compress('ABCDEF', [1,0,1,0,1,1]))\n",
    "#combinatonic iterators\n",
    "print((itertools.product('ABCD', repeat=2)))\n",
    "print(itertools.combinations('ABCD', 2))\n",
    "print(itertools.permutations('ABCD', 2))"
   ]
  },
  {
   "cell_type": "code",
   "execution_count": null,
   "id": "d71a7168",
   "metadata": {},
   "outputs": [],
   "source": []
  }
 ],
 "metadata": {
  "kernelspec": {
   "display_name": "Python 3 (ipykernel)",
   "language": "python",
   "name": "python3"
  },
  "language_info": {
   "codemirror_mode": {
    "name": "ipython",
    "version": 3
   },
   "file_extension": ".py",
   "mimetype": "text/x-python",
   "name": "python",
   "nbconvert_exporter": "python",
   "pygments_lexer": "ipython3",
   "version": "3.11.2"
  }
 },
 "nbformat": 4,
 "nbformat_minor": 5
}
