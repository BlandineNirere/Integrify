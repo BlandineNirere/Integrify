{
 "cells": [
  {
   "cell_type": "markdown",
   "id": "46e1b2c7",
   "metadata": {},
   "source": [
    "# Statistical tests"
   ]
  },
  {
   "cell_type": "code",
   "execution_count": null,
   "id": "1a8203cf",
   "metadata": {},
   "outputs": [],
   "source": [
    "\n",
    "1.\tSuppose we want to test whether the mean weight of apples in a grocery store is 150 grams. \n",
    "We randomly sample 20 apples from the store and measure their weights, getting the following data:\n",
    "\n",
    "What test should we use and why?\n",
    "○\tState the null and alternative hypotheses.\n",
    "○\tChoose a significance level (α) (the probability of rejecting the null hypothesis\n",
    "    when it is actually true).\n",
    "○\tDetermine the degrees of freedom (df) of the sample.\n",
    "○\tDetermine the critical value of t based on the significance level and degrees of freedom. \n",
    "For a two-tailed test with α = 0.05 and df = 19, the critical values are -2.093 and 2.093.\n",
    "○\tCompare and interpret the results of the test to the critical value \n"
   ]
  },
  {
   "cell_type": "code",
   "execution_count": 4,
   "id": "31d83d53",
   "metadata": {},
   "outputs": [],
   "source": [
    "#which test should we use?\n",
    "\"\"\"we should use one sample  t-test because here we are dealing with \n",
    "comparing one sample and one value(the mean in our case) and our sample size is less than 30\n",
    "\"\"\"\n",
    "\n",
    "#state the null and hypothesis test\n",
    "H0 = \"Mean is  150\"\n",
    "H1 = \"Mean is not 150\"\n"
   ]
  },
  {
   "cell_type": "code",
   "execution_count": 117,
   "id": "cbed0e35",
   "metadata": {},
   "outputs": [
    {
     "name": "stdout",
     "output_type": "stream",
     "text": [
      "the length is equal to: 20\n"
     ]
    }
   ],
   "source": [
    "#importing libraries\n",
    "import numpy as np\n",
    "import scipy.stats as stats\n",
    "\n",
    "Apple_weights = np.array([145, 155, 160, 146, 142, 152, 150, 147, 148, 149,\n",
    "                          148, 152, 153, 155, 154, 148, 151, 147, 153, 146]\n",
    ")\n",
    "\n",
    "#chooses the significance level(α)\n",
    "α = 0.05 \n",
    "\n",
    "#determine the degree of freedom\n",
    "df = len(Apple_weights)-1 \n",
    "\n",
    "#sample size\n",
    "n = len(Apple_weights)\n",
    "print(f'the length is equal to: {n}')"
   ]
  },
  {
   "cell_type": "code",
   "execution_count": 119,
   "id": "9fbc6b4c",
   "metadata": {},
   "outputs": [
    {
     "name": "stdout",
     "output_type": "stream",
     "text": [
      "the sample mean is 150.05\n",
      "the standard deviation of the sample is 4.2609\n"
     ]
    }
   ],
   "source": [
    "#calculating the mean, standard deviation of the sample\n",
    "x = Apple_weights.mean()\n",
    "s = Apple_weights.std(ddof = 1).round(4)\n",
    "print(f'the sample mean is {x}')\n",
    "print(f'the standard deviation of the sample is {s}')\n"
   ]
  },
  {
   "cell_type": "code",
   "execution_count": 121,
   "id": "b1efbb8a",
   "metadata": {},
   "outputs": [
    {
     "name": "stdout",
     "output_type": "stream",
     "text": [
      "the t-statistic is equal to 0.0525\n",
      "the critical value is:[-2.093, 2.093]\n",
      "we reject the null hypothesis\n"
     ]
    }
   ],
   "source": [
    "#calculating the t-statistic\n",
    "µ = 150 \n",
    "t_statistic = ((x - 150) / (s /np.sqrt(n))).round(4)\n",
    "print(f'the t-statistic is equal to {t_statistic}')\n",
    "\n",
    "#Determine the critical value of t based on the significance level and degrees of freedom\n",
    "crit_val = (stats.t.ppf(α/2, df)).round(4)\n",
    "print(f'the critical value is:{[crit_val,-crit_val]}')\n",
    "\n",
    "#Compare and interpret the results of the test to the critical value \n",
    "if t_statistic in [crit_val,-crit_val]:\n",
    "    print('we fail to reject the null hypothesis')\n",
    "else:\n",
    "    print('we reject the null hypothesis')\n"
   ]
  },
  {
   "cell_type": "raw",
   "id": "09568de6",
   "metadata": {},
   "source": [
    "2. Suppose we want to test whether the mean height of all men in a population is 180 cm assuming that the population standard deviation = 2. We randomly sample 50 men from the population and measure their heights, getting the following data:\n",
    "\n"
   ]
  },
  {
   "cell_type": "code",
   "execution_count": 86,
   "id": "7d1797c1",
   "metadata": {},
   "outputs": [
    {
     "data": {
      "text/plain": [
       "'\\nFor a two-tailed test with α = 0.05 and df = 49, the critical values are -1.96 and 1.96.\\n\\n'"
      ]
     },
     "execution_count": 86,
     "metadata": {},
     "output_type": "execute_result"
    }
   ],
   "source": [
    "#What test should we use and why?\n",
    "\n",
    "\"\"\"\n",
    "we should use two-tailed z-test becuse we know the population standard deviation and our sample size \n",
    "is greater than 30\n",
    "\n",
    "\"\"\"\n",
    "#State the null and alternative hypotheses.\n",
    "\n",
    "H0 = \"the mean height of all men is 180cm\"\n",
    "H1 = \"the mean height of all men is not 180cm\"\n",
    "    \n",
    "#Choose a significance level \n",
    "α= 0.05\n",
    "\n",
    "#Determine the critical value of t based on the significance level and degrees of freedom.\n",
    "\"\"\"\n",
    "For a two-tailed test with α = 0.05 and df = 49, the critical values are -1.96 and 1.96.\n",
    "\n",
    "\"\"\"\n"
   ]
  },
  {
   "cell_type": "code",
   "execution_count": 100,
   "id": "0f225180",
   "metadata": {},
   "outputs": [
    {
     "name": "stdout",
     "output_type": "stream",
     "text": [
      "179.84\n"
     ]
    }
   ],
   "source": [
    "\n",
    "import numpy as np\n",
    "import scipy.stats as stats\n",
    "\n",
    "#calculating the sample mean\n",
    "Men_height = np.array([177, 180, 182, 179, 178, 181, 176, 183, 179, 180, 178, 181, 177, 178, 180, 179, 182, 180, 183, 181, 179, 177, 180, 181, 178, 180, 182, 179, 177, 182, 178, 181, 183, 179, 180, 181, 183, 178, 177,\n",
    "                       181, 179, 182, 180, 181, 178, 180, 179, 181, 183, 179])\n",
    "s_mean = Men_height.mean()\n",
    "print(s_mean)"
   ]
  },
  {
   "cell_type": "code",
   "execution_count": 99,
   "id": "f1f9dc44",
   "metadata": {},
   "outputs": [
    {
     "name": "stdout",
     "output_type": "stream",
     "text": [
      "50\n"
     ]
    }
   ],
   "source": [
    "n = Men_height.size\n",
    "print(n)\n"
   ]
  },
  {
   "cell_type": "code",
   "execution_count": 102,
   "id": "bd895d8d",
   "metadata": {},
   "outputs": [
    {
     "name": "stdout",
     "output_type": "stream",
     "text": [
      "-0.5657\n",
      "-1.96\n",
      "we fail to reject the null hypothesis\n"
     ]
    }
   ],
   "source": [
    "#calculating the z_test\n",
    "z = ((s_mean -180) / (2/np.sqrt(n))).round(4)\n",
    "print(z)\n",
    "\n",
    "#calculating the critical values for two-tailed z-test\n",
    "crit_val1 = ((stats.norm.ppf(0.05/2))).round(4)\n",
    "print(crit_val1)\n",
    "\n",
    "#Compare and interpret the results of the test to the critical value\n",
    "if abs(z) < abs(crit_val1) :\n",
    "    print(\"we fail to reject the null hypothesis\")\n",
    "else:\n",
    "    print(\"we reject the null hypothesis\")"
   ]
  },
  {
   "cell_type": "code",
   "execution_count": 84,
   "id": "1ac1f3af",
   "metadata": {},
   "outputs": [
    {
     "name": "stdout",
     "output_type": "stream",
     "text": [
      "-0.5657 lies between our critical values [-2.009575234489209,2.0095752344892093]\n",
      "we fail to reject the null hypothesis\n"
     ]
    }
   ],
   "source": [
    "\n",
    "print(f'{z} lies between our critical values [-2.009575234489209,2.0095752344892093]')\n",
    "print(f'we fail to reject the null hypothesis')"
   ]
  },
  {
   "cell_type": "code",
   "execution_count": null,
   "id": "dfefebad",
   "metadata": {},
   "outputs": [],
   "source": [
    "3.Suppose we want to test whether the mean weight of a population of cats\n",
    "is different from 4 kg. We randomly sample 50 cats from the population and measure their weights\n",
    "\n",
    "1-State the null and alternative hypotheses\n",
    "H0: \"The mean weight of the population of cats is equal to 4 kg\". \n",
    "H1: \"The mean weight of the population of cats is not equal to 4 kg.\"\"\n",
    "\n",
    "2-Choose a significance level (α):\n",
    "α = 0.05\n",
    "Look up the critical z-value at the chosen significance level (α) using a z-table.\n",
    "α = 0.05, two-tailed critical values are ±1.96."
   ]
  },
  {
   "cell_type": "code",
   "execution_count": 105,
   "id": "9d733e1d",
   "metadata": {},
   "outputs": [
    {
     "name": "stdout",
     "output_type": "stream",
     "text": [
      "4.17\n",
      "0.2297\n"
     ]
    }
   ],
   "source": [
    "import numpy as np\n",
    "import scipy.stats as stats\n",
    "\n",
    "Cats_weights = np.array([3.9, 4.2, 4.5, 4.1, 4.3, 3.8, 4.6, 4.2, 3.7, 4.3, 3.9, 4.0, 4.1, 4.5, 4.2, 3.8, 3.9, 4.3, 4.1, 4.0, 4.4, 4.2, 4.1, 4.6, 4.4, 4.2, 4.1, 4.3, 4.0, 4.4, 4.3, 3.8, 4.1, 4.5, 4.2, 4.3, 4.0, 4.1, 4.2, 3.9, 4.3,\n",
    "                         3.7, 4.1, 4.5, 4.2, 4.0, 4.2, 4.4, 4.1, 4.5])\n",
    "\n",
    "#calculating the sample mean and sample stanmdard deviation\n",
    "s_mean = Cats_weights.mean().round(4)\n",
    "s_std = Cats_weights.std(ddof = 1).round(4)\n",
    "print(s_mean)\n",
    "print(s_std)"
   ]
  },
  {
   "cell_type": "code",
   "execution_count": 108,
   "id": "b13e6071",
   "metadata": {},
   "outputs": [
    {
     "name": "stdout",
     "output_type": "stream",
     "text": [
      "5.2333\n",
      "-1.96\n",
      "we reject the null hypothesis\n"
     ]
    }
   ],
   "source": [
    "#calculating z_score\n",
    "n = Cats_weights.size\n",
    "z = ((s_mean - 4)/(s_std/np.sqrt(n))).round(4)\n",
    "print(z)\n",
    "\n",
    "#determining the critical values of z\n",
    "crit_val2 = (stats.norm.ppf(0.05/2)).round(4)\n",
    "print(crit_val2)\n",
    "\n",
    "#interpret the results\n",
    "if z in [crit_val2, -crit_val2]:\n",
    "    print(f'we fail to reject the null hypothesis')\n",
    "else:\n",
    "    print(f'we reject the null hypothesis')\n"
   ]
  }
 ],
 "metadata": {
  "kernelspec": {
   "display_name": "Python 3 (ipykernel)",
   "language": "python",
   "name": "python3"
  },
  "language_info": {
   "codemirror_mode": {
    "name": "ipython",
    "version": 3
   },
   "file_extension": ".py",
   "mimetype": "text/x-python",
   "name": "python",
   "nbconvert_exporter": "python",
   "pygments_lexer": "ipython3",
   "version": "3.11.2"
  }
 },
 "nbformat": 4,
 "nbformat_minor": 5
}
